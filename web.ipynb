{
 "cells": [
  {
   "cell_type": "code",
   "execution_count": 37,
   "metadata": {},
   "outputs": [],
   "source": [
    "import numpy as np\n",
    "import pandas as pd\n",
    "import matplotlib.pyplot as plt\n",
    "import PIL\n",
    "import pytesseract\n",
    "import os\n",
    "import requests\n",
    "import urllib.parse\n",
    "from PIL import Image"
   ]
  },
  {
   "cell_type": "code",
   "execution_count": 38,
   "metadata": {},
   "outputs": [
    {
     "name": "stdout",
     "output_type": "stream",
     "text": [
      "Screenshot saved as cme_screenshot_large.jpg\n",
      "Cropped table saved as cropped_table_image.png\n"
     ]
    }
   ],
   "source": [
    "\n",
    "def capture_screenshot(url, width, height, output_path):\n",
    "    \"\"\"\n",
    "    Function to capture a screenshot of a webpage using mini.s-shot.ru.\n",
    "    \"\"\"\n",
    "    BASE = f'https://mini.s-shot.ru/{width}x{height}/JPEG/1280/Z100/?'\n",
    "    encoded_url = urllib.parse.quote_plus(url)\n",
    "    full_url = BASE + encoded_url\n",
    "    \n",
    "    response = requests.get(full_url, stream=True)\n",
    "    if response.status_code == 200:\n",
    "        with open(output_path, 'wb') as file:\n",
    "            for chunk in response:\n",
    "                file.write(chunk)\n",
    "        print(f\"Screenshot saved as {output_path}\")\n",
    "    else:\n",
    "        print(f\"Failed to capture screenshot. Status code: {response.status_code}\")\n",
    "\n",
    "def crop_table_from_image(image_path, output_path, crop_box):\n",
    "    \"\"\"\n",
    "    Function to crop the table region from an image.\n",
    "    \"\"\"\n",
    "    # Load the image\n",
    "    img = Image.open(image_path)\n",
    "    \n",
    "    # Crop the image using the coordinates (left, upper, right, lower)\n",
    "    cropped_img = img.crop(crop_box)\n",
    "    \n",
    "    # Save the cropped image\n",
    "    cropped_img.save(output_path)\n",
    "    \n",
    "    print(f\"Cropped table saved as {output_path}\")\n",
    "\n",
    "# Step 1: Capture the screenshot\n",
    "url = 'https://www.cmegroup.com/markets/equities/sp/e-mini-sandp500.volume.html'\n",
    "screenshot_path = 'cme_screenshot_large.jpg'\n",
    "\n",
    "# Screenshot size (you can adjust these dimensions if necessary)\n",
    "capture_screenshot(url, 1280, 4000, screenshot_path)\n",
    "\n",
    "# Step 2: Crop the table from the screenshot\n",
    "crop_box = (20, 1350, 1280, 1800)  # Example coordinates to crop the table from the screenshot\n",
    "output_cropped_table = 'cropped_table_image.png'\n",
    "crop_table_from_image(screenshot_path, output_cropped_table, crop_box)"
   ]
  },
  {
   "cell_type": "code",
   "execution_count": 39,
   "metadata": {},
   "outputs": [
    {
     "name": "stdout",
     "output_type": "stream",
     "text": [
      "['eng', 'osd']\n"
     ]
    }
   ],
   "source": [
    "print(pytesseract.get_languages())\n",
    "special_config = '--psm 12 --oem 1'\n",
    "languages_ = \"eng\""
   ]
  },
  {
   "cell_type": "code",
   "execution_count": 40,
   "metadata": {},
   "outputs": [],
   "source": [
    "image_path = \"cropped_table_image.png\" # Any image format will do\n",
    "img_pl=PIL.Image.open(image_path) # You can use opencv for that option too"
   ]
  },
  {
   "cell_type": "code",
   "execution_count": 41,
   "metadata": {},
   "outputs": [
    {
     "data": {
      "text/html": [
       "<div>\n",
       "<style scoped>\n",
       "    .dataframe tbody tr th:only-of-type {\n",
       "        vertical-align: middle;\n",
       "    }\n",
       "\n",
       "    .dataframe tbody tr th {\n",
       "        vertical-align: top;\n",
       "    }\n",
       "\n",
       "    .dataframe thead th {\n",
       "        text-align: right;\n",
       "    }\n",
       "</style>\n",
       "<table border=\"1\" class=\"dataframe\">\n",
       "  <thead>\n",
       "    <tr style=\"text-align: right;\">\n",
       "      <th></th>\n",
       "      <th>Month</th>\n",
       "      <th>Total Volume</th>\n",
       "      <th>At Close</th>\n",
       "    </tr>\n",
       "  </thead>\n",
       "  <tbody>\n",
       "    <tr>\n",
       "      <th>0</th>\n",
       "      <td>DEC</td>\n",
       "      <td>1,250,353</td>\n",
       "      <td>2,066,996</td>\n",
       "    </tr>\n",
       "  </tbody>\n",
       "</table>\n",
       "</div>"
      ],
      "text/plain": [
       "  Month Total Volume   At Close\n",
       "0   DEC    1,250,353  2,066,996"
      ]
     },
     "execution_count": 41,
     "metadata": {},
     "output_type": "execute_result"
    }
   ],
   "source": [
    "\n",
    "# Extract text from image using pytesseract\n",
    "data = pytesseract.image_to_string(img_pl)\n",
    "\n",
    "# Split the extracted text into lines for further processing\n",
    "lines = data.split(\"\\n\")\n",
    "\n",
    "# Example parsing logic to extract relevant rows (for illustration purposes)\n",
    "# We're assuming 'lines' contains the extracted text row-wise from the image.\n",
    "# You can inspect and clean this data accordingly.\n",
    "data = []\n",
    "for line in lines:\n",
    "    # Look for lines with \"SEP 2024\" to extract relevant information\n",
    "    if \"DEC 2024\" in line:\n",
    "        # Split the line into columns and extract \"TOTAL VOLUME\" and \"AT CLOSE\" (assuming fixed positions)\n",
    "        # Adjust the indices based on the actual output from pytesseract\n",
    "        columns = line.split()\n",
    "        month = columns[0]\n",
    "        total_volume = columns[4]  # Adjust based on actual index from the extracted text\n",
    "        at_close = columns[-2]     # Adjust based on actual index from the extracted text\n",
    "        data.append([month, total_volume, at_close])\n",
    "\n",
    "# Convert the extracted data into a pandas DataFrame\n",
    "df = pd.DataFrame(data, columns=['Month', 'Total Volume', 'At Close'])\n",
    "\n",
    "# Display the DataFrame\n",
    "df\n"
   ]
  }
 ],
 "metadata": {
  "kernelspec": {
   "display_name": "Test",
   "language": "python",
   "name": "python3"
  },
  "language_info": {
   "codemirror_mode": {
    "name": "ipython",
    "version": 3
   },
   "file_extension": ".py",
   "mimetype": "text/x-python",
   "name": "python",
   "nbconvert_exporter": "python",
   "pygments_lexer": "ipython3",
   "version": "3.12.6"
  }
 },
 "nbformat": 4,
 "nbformat_minor": 2
}
