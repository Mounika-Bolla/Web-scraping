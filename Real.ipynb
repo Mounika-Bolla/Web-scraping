{
 "cells": [
  {
   "cell_type": "code",
   "execution_count": 3,
   "metadata": {},
   "outputs": [],
   "source": [
    "import cv2\n",
    "\n",
    "image = cv2.imread(\"cropped_table_image.png\")\n",
    "gray = cv2.cvtColor(image, cv2.COLOR_BGR2GRAY)\n",
    "thresh = cv2.adaptiveThreshold(gray, 255, cv2.ADAPTIVE_THRESH_MEAN_C, cv2.THRESH_BINARY_INV, 11, 2)"
   ]
  },
  {
   "cell_type": "code",
   "execution_count": 4,
   "metadata": {},
   "outputs": [],
   "source": [
    "import pytesseract\n",
    "\n",
    "text = pytesseract.image_to_string(thresh)"
   ]
  },
  {
   "cell_type": "code",
   "execution_count": 7,
   "metadata": {},
   "outputs": [
    {
     "name": "stdout",
     "output_type": "stream",
     "text": [
      "     0     1     2     3     4     5     6     7     8     9     10    11\n",
      "0  None  None  None  None  None  None  None  None  None  None  None  None\n",
      "1  None  None  None  None  None  None  None  None  None  None  None  None\n",
      "2  None  None  None  None  None  None  None  None  None  None  None  None\n",
      "3  None  None  None  None  None  None  None  None  None  None  None  None\n",
      "4  None  None  None  None  None  None  None  None  None  None  None  None\n",
      "5  None  None  None  None  None  None  None  None  None  None  None  None\n",
      "6  None  None  None  None  None  None  None  None  None  None  None  None\n"
     ]
    }
   ],
   "source": [
    "from img2table.document import Image\n",
    "\n",
    "image = Image(\"cropped_table_image.png\")\n",
    "tables = image.extract_tables()\n",
    "df = tables[0].df\n",
    "print(df)"
   ]
  },
  {
   "cell_type": "code",
   "execution_count": null,
   "metadata": {},
   "outputs": [],
   "source": []
  },
  {
   "cell_type": "code",
   "execution_count": null,
   "metadata": {},
   "outputs": [],
   "source": []
  }
 ],
 "metadata": {
  "kernelspec": {
   "display_name": "Test",
   "language": "python",
   "name": "python3"
  },
  "language_info": {
   "codemirror_mode": {
    "name": "ipython",
    "version": 3
   },
   "file_extension": ".py",
   "mimetype": "text/x-python",
   "name": "python",
   "nbconvert_exporter": "python",
   "pygments_lexer": "ipython3",
   "version": "3.12.6"
  }
 },
 "nbformat": 4,
 "nbformat_minor": 2
}
